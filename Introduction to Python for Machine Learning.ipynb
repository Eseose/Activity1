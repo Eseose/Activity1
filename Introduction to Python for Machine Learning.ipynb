{
    "cells": [
        {
            "cell_type": "code",
            "execution_count": 1,
            "metadata": {},
            "outputs": [],
            "source": "import pandas as pd"
        },
        {
            "cell_type": "code",
            "execution_count": 2,
            "metadata": {},
            "outputs": [],
            "source": "import numpy as np"
        },
        {
            "cell_type": "code",
            "execution_count": 5,
            "metadata": {},
            "outputs": [],
            "source": "fuel_data=pd.read_csv('https://raw.githubusercontent.com/WalePhenomenon/climate_change/master/fuel_ferc1.csv', error_bad_lines=False)"
        },
        {
            "cell_type": "code",
            "execution_count": 6,
            "metadata": {},
            "outputs": [
                {
                    "data": {
                        "text/html": "<div>\n<style scoped>\n    .dataframe tbody tr th:only-of-type {\n        vertical-align: middle;\n    }\n\n    .dataframe tbody tr th {\n        vertical-align: top;\n    }\n\n    .dataframe thead th {\n        text-align: right;\n    }\n</style>\n<table border=\"1\" class=\"dataframe\">\n  <thead>\n    <tr style=\"text-align: right;\">\n      <th></th>\n      <th>record_id</th>\n      <th>utility_id_ferc1</th>\n      <th>report_year</th>\n      <th>plant_name_ferc1</th>\n      <th>fuel_type_code_pudl</th>\n      <th>fuel_unit</th>\n      <th>fuel_qty_burned</th>\n      <th>fuel_mmbtu_per_unit</th>\n      <th>fuel_cost_per_unit_burned</th>\n      <th>fuel_cost_per_unit_delivered</th>\n      <th>fuel_cost_per_mmbtu</th>\n    </tr>\n  </thead>\n  <tbody>\n    <tr>\n      <th>0</th>\n      <td>f1_fuel_1994_12_1_0_7</td>\n      <td>1</td>\n      <td>1994</td>\n      <td>rockport</td>\n      <td>coal</td>\n      <td>ton</td>\n      <td>5377489.0</td>\n      <td>16.590</td>\n      <td>18.59</td>\n      <td>18.53</td>\n      <td>1.121</td>\n    </tr>\n    <tr>\n      <th>1</th>\n      <td>f1_fuel_1994_12_1_0_10</td>\n      <td>1</td>\n      <td>1994</td>\n      <td>rockport total plant</td>\n      <td>coal</td>\n      <td>ton</td>\n      <td>10486945.0</td>\n      <td>16.592</td>\n      <td>18.58</td>\n      <td>18.53</td>\n      <td>1.120</td>\n    </tr>\n    <tr>\n      <th>2</th>\n      <td>f1_fuel_1994_12_2_0_1</td>\n      <td>2</td>\n      <td>1994</td>\n      <td>gorgas</td>\n      <td>coal</td>\n      <td>ton</td>\n      <td>2978683.0</td>\n      <td>24.130</td>\n      <td>39.72</td>\n      <td>38.12</td>\n      <td>1.650</td>\n    </tr>\n    <tr>\n      <th>3</th>\n      <td>f1_fuel_1994_12_2_0_7</td>\n      <td>2</td>\n      <td>1994</td>\n      <td>barry</td>\n      <td>coal</td>\n      <td>ton</td>\n      <td>3739484.0</td>\n      <td>23.950</td>\n      <td>47.21</td>\n      <td>45.99</td>\n      <td>1.970</td>\n    </tr>\n    <tr>\n      <th>4</th>\n      <td>f1_fuel_1994_12_2_0_10</td>\n      <td>2</td>\n      <td>1994</td>\n      <td>chickasaw</td>\n      <td>gas</td>\n      <td>mcf</td>\n      <td>40533.0</td>\n      <td>1.000</td>\n      <td>2.77</td>\n      <td>2.77</td>\n      <td>2.570</td>\n    </tr>\n  </tbody>\n</table>\n</div>",
                        "text/plain": "                record_id  utility_id_ferc1  report_year  \\\n0   f1_fuel_1994_12_1_0_7                 1         1994   \n1  f1_fuel_1994_12_1_0_10                 1         1994   \n2   f1_fuel_1994_12_2_0_1                 2         1994   \n3   f1_fuel_1994_12_2_0_7                 2         1994   \n4  f1_fuel_1994_12_2_0_10                 2         1994   \n\n       plant_name_ferc1 fuel_type_code_pudl fuel_unit  fuel_qty_burned  \\\n0              rockport                coal       ton        5377489.0   \n1  rockport total plant                coal       ton       10486945.0   \n2                gorgas                coal       ton        2978683.0   \n3                 barry                coal       ton        3739484.0   \n4             chickasaw                 gas       mcf          40533.0   \n\n   fuel_mmbtu_per_unit  fuel_cost_per_unit_burned  \\\n0               16.590                      18.59   \n1               16.592                      18.58   \n2               24.130                      39.72   \n3               23.950                      47.21   \n4                1.000                       2.77   \n\n   fuel_cost_per_unit_delivered  fuel_cost_per_mmbtu  \n0                         18.53                1.121  \n1                         18.53                1.120  \n2                         38.12                1.650  \n3                         45.99                1.970  \n4                          2.77                2.570  "
                    },
                    "execution_count": 6,
                    "metadata": {},
                    "output_type": "execute_result"
                }
            ],
            "source": "fuel_data.head()"
        },
        {
            "cell_type": "code",
            "execution_count": 35,
            "metadata": {},
            "outputs": [
                {
                    "data": {
                        "text/plain": "0"
                    },
                    "execution_count": 35,
                    "metadata": {},
                    "output_type": "execute_result"
                }
            ],
            "source": "fuel_data.isnull().sum().sum()\n"
        },
        {
            "cell_type": "code",
            "execution_count": 8,
            "metadata": {},
            "outputs": [],
            "source": "fuel_data[['fuel_unit']]=fuel_data[['fuel_unit']].fillna(value='mcf')"
        },
        {
            "cell_type": "code",
            "execution_count": 10,
            "metadata": {},
            "outputs": [
                {
                    "data": {
                        "text/plain": "record_id                       0\nutility_id_ferc1                0\nreport_year                     0\nplant_name_ferc1                0\nfuel_type_code_pudl             0\nfuel_unit                       0\nfuel_qty_burned                 0\nfuel_mmbtu_per_unit             0\nfuel_cost_per_unit_burned       0\nfuel_cost_per_unit_delivered    0\nfuel_cost_per_mmbtu             0\ndtype: int64"
                    },
                    "execution_count": 10,
                    "metadata": {},
                    "output_type": "execute_result"
                }
            ],
            "source": "fuel_data.isnull().sum()"
        },
        {
            "cell_type": "code",
            "execution_count": 36,
            "metadata": {},
            "outputs": [
                {
                    "data": {
                        "text/plain": "fuel_unit    29523\ndtype: int64"
                    },
                    "execution_count": 36,
                    "metadata": {},
                    "output_type": "execute_result"
                }
            ],
            "source": "D=fuel_data[['fuel_unit']].count()\nD"
        },
        {
            "cell_type": "code",
            "execution_count": 39,
            "metadata": {},
            "outputs": [
                {
                    "data": {
                        "text/plain": "fuel_unit    0.609694\ndtype: float64"
                    },
                    "execution_count": 39,
                    "metadata": {},
                    "output_type": "execute_result"
                }
            ],
            "source": "Missing= (180/D)*100\nMissing"
        },
        {
            "cell_type": "code",
            "execution_count": 20,
            "metadata": {},
            "outputs": [
                {
                    "name": "stdout",
                    "output_type": "stream",
                    "text": "coal\n0        18.590\n1        18.580\n2        39.720\n3        47.210\n5        44.240\n          ...  \n29503    26.775\n29510    14.760\n29516    14.760\n29517    13.690\n29521     3.060\nName: fuel_cost_per_unit_burned, Length: 8547, dtype: float64\n\ngas\n4        2.77\n10       1.94\n12       1.94\n28       2.49\n30       2.69\n         ... \n29515    8.33\n29518    4.78\n29519    3.65\n29520    4.77\n29522    0.00\nName: fuel_cost_per_unit_burned, Length: 11486, dtype: float64\n\nnuclear\n6           28.770\n45       40803.000\n52          44.000\n53          41.310\n54          37.510\n           ...    \n29177        0.000\n29187        0.000\n29318        0.606\n29390       49.494\n29395       51.175\nName: fuel_cost_per_unit_burned, Length: 818, dtype: float64\n\noil\n14        32.130\n19        33.321\n21        30.319\n23        32.184\n25        32.186\n          ...   \n29502     88.553\n29505    101.330\n29506     95.530\n29507     98.180\n29514      0.000\nName: fuel_cost_per_unit_burned, Length: 8064, dtype: float64\n\nother\n84       14.685\n203      14.685\n228      14.685\n277       0.044\n349       0.530\n          ...  \n23961     0.584\n24011    49.320\n25040     0.661\n25831     0.595\n27065     0.609\nName: fuel_cost_per_unit_burned, Length: 167, dtype: float64\n\nwaste\n49        34.180\n230       25.190\n431        9.325\n433        6.682\n434      -35.100\n          ...   \n29172     13.664\n29191    103.568\n29192    132.291\n29416     38.000\n29477     22.113\nName: fuel_cost_per_unit_burned, Length: 441, dtype: float64\n\n"
                }
            ],
            "source": "Grp=fuel_data.groupby('fuel_type_code_pudl')['fuel_cost_per_unit_burned']\nfor name, group in Grp:\n    print (name)\n    print (group)\n    print()"
        },
        {
            "cell_type": "code",
            "execution_count": 30,
            "metadata": {},
            "outputs": [
                {
                    "data": {
                        "text/plain": "fuel_type_code_pudl\ncoal        576254.381\ngas         156891.829\nnuclear    4053318.428\noil        1361824.819\nother         3048.394\nName: fuel_cost_per_unit_burned, dtype: float64"
                    },
                    "execution_count": 30,
                    "metadata": {},
                    "output_type": "execute_result"
                }
            ],
            "source": "A=Grp.sum()\nA.head()"
        },
        {
            "cell_type": "code",
            "execution_count": 32,
            "metadata": {},
            "outputs": [
                {
                    "data": {
                        "text/plain": "fuel_type_code_pudl\ncoal        8547\ngas        11486\nnuclear      818\noil         8064\nother        167\nwaste        441\nName: fuel_cost_per_unit_burned, dtype: int64"
                    },
                    "execution_count": 32,
                    "metadata": {},
                    "output_type": "execute_result"
                }
            ],
            "source": "B=Grp.count()\nB"
        },
        {
            "cell_type": "code",
            "execution_count": 34,
            "metadata": {},
            "outputs": [
                {
                    "data": {
                        "text/plain": "fuel_type_code_pudl\ncoal         67.421830\ngas          13.659397\nnuclear    4955.157002\noil         168.877086\nother        18.253856\nwaste        19.518122\nName: fuel_cost_per_unit_burned, dtype: float64"
                    },
                    "execution_count": 34,
                    "metadata": {},
                    "output_type": "execute_result"
                }
            ],
            "source": "C= A/B\nC"
        },
        {
            "cell_type": "code",
            "execution_count": 24,
            "metadata": {},
            "outputs": [
                {
                    "data": {
                        "text/html": "<div>\n<style scoped>\n    .dataframe tbody tr th:only-of-type {\n        vertical-align: middle;\n    }\n\n    .dataframe tbody tr th {\n        vertical-align: top;\n    }\n\n    .dataframe thead th {\n        text-align: right;\n    }\n</style>\n<table border=\"1\" class=\"dataframe\">\n  <thead>\n    <tr style=\"text-align: right;\">\n      <th></th>\n      <th>fuel_mmbtu_per_unit</th>\n    </tr>\n  </thead>\n  <tbody>\n    <tr>\n      <th>count</th>\n      <td>29523.000000</td>\n    </tr>\n    <tr>\n      <th>mean</th>\n      <td>8.492111</td>\n    </tr>\n    <tr>\n      <th>std</th>\n      <td>10.600220</td>\n    </tr>\n    <tr>\n      <th>min</th>\n      <td>0.000001</td>\n    </tr>\n    <tr>\n      <th>25%</th>\n      <td>1.024000</td>\n    </tr>\n    <tr>\n      <th>50%</th>\n      <td>5.762694</td>\n    </tr>\n    <tr>\n      <th>75%</th>\n      <td>17.006000</td>\n    </tr>\n    <tr>\n      <th>max</th>\n      <td>341.260000</td>\n    </tr>\n  </tbody>\n</table>\n</div>",
                        "text/plain": "       fuel_mmbtu_per_unit\ncount         29523.000000\nmean              8.492111\nstd              10.600220\nmin               0.000001\n25%               1.024000\n50%               5.762694\n75%              17.006000\nmax             341.260000"
                    },
                    "execution_count": 24,
                    "metadata": {},
                    "output_type": "execute_result"
                }
            ],
            "source": "Q4=fuel_data[['fuel_mmbtu_per_unit']]\nQ4.describe()\n"
        },
        {
            "cell_type": "markdown",
            "metadata": {},
            "source": "## Question 5"
        },
        {
            "cell_type": "code",
            "execution_count": 27,
            "metadata": {},
            "outputs": [
                {
                    "data": {
                        "text/plain": "fuel_qty_burned    651.36945\ndtype: float64"
                    },
                    "execution_count": 27,
                    "metadata": {},
                    "output_type": "execute_result"
                }
            ],
            "source": "Q5=fuel_data[['fuel_qty_burned']]\nQ5.kurt(axis=0)"
        },
        {
            "cell_type": "code",
            "execution_count": 29,
            "metadata": {},
            "outputs": [
                {
                    "data": {
                        "text/plain": "fuel_qty_burned    15.851495\ndtype: float64"
                    },
                    "execution_count": 29,
                    "metadata": {},
                    "output_type": "execute_result"
                }
            ],
            "source": "Q5.skew(axis=0, skipna=True)"
        },
        {
            "cell_type": "code",
            "execution_count": 46,
            "metadata": {},
            "outputs": [
                {
                    "name": "stdout",
                    "output_type": "stream",
                    "text": "1994\n78590.534\n\n1995\n39315.058\n\n1996\n10006016.070999997\n\n1997\n12187375.780000001\n\n1998\n317879.9429999999\n\n1999\n26829.208000000002\n\n2000\n1352903.2300000002\n\n2001\n81428.337\n\n2002\n57351.204999999994\n\n2003\n67408.49\n\n2004\n166312.93600000002\n\n2005\n52585.056000000004\n\n2006\n48051.253\n\n2007\n54762.829\n\n2008\n71946.30599999998\n\n2009\n797592.2670000001\n\n2010\n115838.11499999999\n\n2011\n74120.587\n\n2012\n75816.166\n\n2013\n206596.802\n\n2014\n225695.24100000004\n\n2015\n356903.31299999997\n\n2016\n107434.421\n\n2017\n45873.483\n\n2018\n474805.73799999995\n\n"
                }
            ],
            "source": "Grp3=fuel_data.groupby('report_year')['fuel_cost_per_unit_delivered']\nfor name, group in Grp3:\n    print(name)\n    print(group.sum())\n    print()\n"
        },
        {
            "cell_type": "code",
            "execution_count": 55,
            "metadata": {},
            "outputs": [
                {
                    "data": {
                        "text/plain": "report_year\n1994    1235\n1995    1201\n1996    1088\n1997    1094\n1998    1107\nName: fuel_cost_per_unit_delivered, dtype: int64"
                    },
                    "execution_count": 55,
                    "metadata": {},
                    "output_type": "execute_result"
                }
            ],
            "source": "Sum3=Grp3.count()\nSum3.head()"
        },
        {
            "cell_type": "code",
            "execution_count": 56,
            "metadata": {},
            "outputs": [
                {
                    "data": {
                        "text/plain": "report_year\n1994       63.636060\n1995       32.735269\n1996     9196.705948\n1997    11140.197239\n1998      287.154420\nName: fuel_cost_per_unit_delivered, dtype: float64"
                    },
                    "execution_count": 56,
                    "metadata": {},
                    "output_type": "execute_result"
                }
            ],
            "source": "Av_Fcost=(Grp3.sum())/Sum3\nAv_Fcost.head()"
        },
        {
            "cell_type": "code",
            "execution_count": 54,
            "metadata": {},
            "outputs": [
                {
                    "data": {
                        "text/plain": "11140.19723948813"
                    },
                    "execution_count": 54,
                    "metadata": {},
                    "output_type": "execute_result"
                }
            ],
            "source": "Av_Fcost.max()"
        },
        {
            "cell_type": "markdown",
            "metadata": {},
            "source": "The year having the highest average fuel cost per unit delivered is 1997:"
        },
        {
            "cell_type": "code",
            "execution_count": 66,
            "metadata": {},
            "outputs": [
                {
                    "data": {
                        "text/plain": "0         18.590\n1         18.580\n2         39.720\n3         47.210\n4          2.770\n5         44.240\n6         28.770\n10         1.940\n12         1.940\n14        32.130\n19        33.321\n21        30.319\n23        32.184\n25        32.186\n28         2.490\n30         2.690\n45     40803.000\n49        34.180\n52        44.000\n53        41.310\n54        37.510\n84        14.685\n203       14.685\n228       14.685\n230       25.190\n277        0.044\n349        0.530\n431        9.325\n433        6.682\n434      -35.100\nName: fuel_cost_per_unit_burned, dtype: float64"
                    },
                    "execution_count": 66,
                    "metadata": {},
                    "output_type": "execute_result"
                }
            ],
            "source": "Coal= fuel_data.groupby('fuel_type_code_pudl')['fuel_cost_per_unit_burned']\nCoal.head()"
        },
        {
            "cell_type": "code",
            "execution_count": 65,
            "metadata": {},
            "outputs": [
                {
                    "name": "stdout",
                    "output_type": "stream",
                    "text": "                     report_year  fuel_cost_per_unit_burned\nfuel_type_code_pudl                                        \ncoal                        8547                       8547\ngas                        11486                      11486\nnuclear                      818                        818\noil                         8064                       8064\nother                        167                        167\nwaste                        441                        441\n"
                }
            ],
            "source": "CoalYr=fuel_data.groupby()"
        },
        {
            "cell_type": "code",
            "execution_count": null,
            "metadata": {},
            "outputs": [],
            "source": ""
        }
    ],
    "metadata": {
        "kernelspec": {
            "display_name": "Python 3.8",
            "language": "python",
            "name": "python3"
        },
        "language_info": {
            "codemirror_mode": {
                "name": "ipython",
                "version": 3
            },
            "file_extension": ".py",
            "mimetype": "text/x-python",
            "name": "python",
            "nbconvert_exporter": "python",
            "pygments_lexer": "ipython3",
            "version": "3.8.10"
        }
    },
    "nbformat": 4,
    "nbformat_minor": 1
}