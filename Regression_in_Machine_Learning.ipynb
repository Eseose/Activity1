{
    "cells": [
        {
            "cell_type": "code",
            "execution_count": 40,
            "id": "7bffa252",
            "metadata": {},
            "outputs": [],
            "source": "#importing libraries\nimport pandas as pd\nimport numpy as np\nimport seaborn as sns\nimport matplotlib as plt\nfrom sklearn.metrics import r2_score, mean_squared_error, mean_absolute_error\nfrom sklearn.linear_model import LinearRegression, Ridge, Lasso, ElasticNet"
        },
        {
            "cell_type": "code",
            "execution_count": 41,
            "id": "5151ba1d",
            "metadata": {},
            "outputs": [
                {
                    "data": {
                        "text/html": "<div>\n<style scoped>\n    .dataframe tbody tr th:only-of-type {\n        vertical-align: middle;\n    }\n\n    .dataframe tbody tr th {\n        vertical-align: top;\n    }\n\n    .dataframe thead th {\n        text-align: right;\n    }\n</style>\n<table border=\"1\" class=\"dataframe\">\n  <thead>\n    <tr style=\"text-align: right;\">\n      <th></th>\n      <th>date</th>\n      <th>Appliances</th>\n      <th>lights</th>\n      <th>T1</th>\n      <th>RH_1</th>\n      <th>T2</th>\n      <th>RH_2</th>\n      <th>T3</th>\n      <th>RH_3</th>\n      <th>T4</th>\n      <th>...</th>\n      <th>T9</th>\n      <th>RH_9</th>\n      <th>T_out</th>\n      <th>Press_mm_hg</th>\n      <th>RH_out</th>\n      <th>Windspeed</th>\n      <th>Visibility</th>\n      <th>Tdewpoint</th>\n      <th>rv1</th>\n      <th>rv2</th>\n    </tr>\n  </thead>\n  <tbody>\n    <tr>\n      <th>9897</th>\n      <td>2016-03-20 10:30:00</td>\n      <td>150</td>\n      <td>0</td>\n      <td>20.89</td>\n      <td>38.95</td>\n      <td>18.29</td>\n      <td>38.860000</td>\n      <td>21.600000</td>\n      <td>35.060000</td>\n      <td>19.790</td>\n      <td>...</td>\n      <td>19.39</td>\n      <td>37.933333</td>\n      <td>5.700000</td>\n      <td>761.950000</td>\n      <td>79.000000</td>\n      <td>2.500000</td>\n      <td>28.0</td>\n      <td>2.350000</td>\n      <td>11.309992</td>\n      <td>11.309992</td>\n    </tr>\n    <tr>\n      <th>5872</th>\n      <td>2016-02-21 11:40:00</td>\n      <td>80</td>\n      <td>20</td>\n      <td>20.70</td>\n      <td>45.00</td>\n      <td>19.79</td>\n      <td>45.626667</td>\n      <td>21.426667</td>\n      <td>42.126667</td>\n      <td>20.675</td>\n      <td>...</td>\n      <td>18.29</td>\n      <td>47.462500</td>\n      <td>10.966667</td>\n      <td>756.566667</td>\n      <td>90.666667</td>\n      <td>8.333333</td>\n      <td>56.0</td>\n      <td>9.466667</td>\n      <td>33.831754</td>\n      <td>33.831754</td>\n    </tr>\n  </tbody>\n</table>\n<p>2 rows \u00d7 29 columns</p>\n</div>",
                        "text/plain": "                     date  Appliances  lights     T1   RH_1     T2       RH_2  \\\n9897  2016-03-20 10:30:00         150       0  20.89  38.95  18.29  38.860000   \n5872  2016-02-21 11:40:00          80      20  20.70  45.00  19.79  45.626667   \n\n             T3       RH_3      T4  ...     T9       RH_9      T_out  \\\n9897  21.600000  35.060000  19.790  ...  19.39  37.933333   5.700000   \n5872  21.426667  42.126667  20.675  ...  18.29  47.462500  10.966667   \n\n      Press_mm_hg     RH_out  Windspeed  Visibility  Tdewpoint        rv1  \\\n9897   761.950000  79.000000   2.500000        28.0   2.350000  11.309992   \n5872   756.566667  90.666667   8.333333        56.0   9.466667  33.831754   \n\n            rv2  \n9897  11.309992  \n5872  33.831754  \n\n[2 rows x 29 columns]"
                    },
                    "execution_count": 41,
                    "metadata": {},
                    "output_type": "execute_result"
                }
            ],
            "source": "#Converting csv file into DataFrame\nenergydata = pd.read_csv('energydata_complete.csv')\nenergydata.sample(2)"
        },
        {
            "cell_type": "code",
            "execution_count": 42,
            "id": "17cab875",
            "metadata": {},
            "outputs": [
                {
                    "data": {
                        "text/html": "<div>\n<style scoped>\n    .dataframe tbody tr th:only-of-type {\n        vertical-align: middle;\n    }\n\n    .dataframe tbody tr th {\n        vertical-align: top;\n    }\n\n    .dataframe thead th {\n        text-align: right;\n    }\n</style>\n<table border=\"1\" class=\"dataframe\">\n  <thead>\n    <tr style=\"text-align: right;\">\n      <th></th>\n      <th>Appliances</th>\n      <th>T1</th>\n      <th>RH_1</th>\n      <th>T2</th>\n      <th>RH_2</th>\n      <th>T3</th>\n      <th>RH_3</th>\n      <th>T4</th>\n      <th>RH_4</th>\n      <th>T5</th>\n      <th>...</th>\n      <th>T9</th>\n      <th>RH_9</th>\n      <th>T_out</th>\n      <th>Press_mm_hg</th>\n      <th>RH_out</th>\n      <th>Windspeed</th>\n      <th>Visibility</th>\n      <th>Tdewpoint</th>\n      <th>rv1</th>\n      <th>rv2</th>\n    </tr>\n  </thead>\n  <tbody>\n    <tr>\n      <th>8428</th>\n      <td>50</td>\n      <td>19.7</td>\n      <td>36.79</td>\n      <td>16.700000</td>\n      <td>40.700000</td>\n      <td>20.29</td>\n      <td>37.50</td>\n      <td>19.945</td>\n      <td>35.50</td>\n      <td>17.7</td>\n      <td>...</td>\n      <td>17.39</td>\n      <td>39.7</td>\n      <td>-0.066667</td>\n      <td>754.60</td>\n      <td>89.0</td>\n      <td>1.0</td>\n      <td>64.333333</td>\n      <td>-1.733333</td>\n      <td>36.865272</td>\n      <td>36.865272</td>\n    </tr>\n    <tr>\n      <th>14487</th>\n      <td>60</td>\n      <td>21.5</td>\n      <td>36.90</td>\n      <td>18.963333</td>\n      <td>39.963333</td>\n      <td>22.60</td>\n      <td>35.79</td>\n      <td>21.956</td>\n      <td>33.92</td>\n      <td>20.0</td>\n      <td>...</td>\n      <td>20.10</td>\n      <td>38.2</td>\n      <td>5.150000</td>\n      <td>763.05</td>\n      <td>80.0</td>\n      <td>2.5</td>\n      <td>26.000000</td>\n      <td>1.950000</td>\n      <td>9.310445</td>\n      <td>9.310445</td>\n    </tr>\n  </tbody>\n</table>\n<p>2 rows \u00d7 27 columns</p>\n</div>",
                        "text/plain": "       Appliances    T1   RH_1         T2       RH_2     T3   RH_3      T4  \\\n8428           50  19.7  36.79  16.700000  40.700000  20.29  37.50  19.945   \n14487          60  21.5  36.90  18.963333  39.963333  22.60  35.79  21.956   \n\n        RH_4    T5  ...     T9  RH_9     T_out  Press_mm_hg  RH_out  \\\n8428   35.50  17.7  ...  17.39  39.7 -0.066667       754.60    89.0   \n14487  33.92  20.0  ...  20.10  38.2  5.150000       763.05    80.0   \n\n       Windspeed  Visibility  Tdewpoint        rv1        rv2  \n8428         1.0   64.333333  -1.733333  36.865272  36.865272  \n14487        2.5   26.000000   1.950000   9.310445   9.310445  \n\n[2 rows x 27 columns]"
                    },
                    "execution_count": 42,
                    "metadata": {},
                    "output_type": "execute_result"
                }
            ],
            "source": "#Droping Columns 'date' and 'lights'\nenergydata = energydata.drop(columns= ['date','lights'])\nenergydata.sample(2)"
        },
        {
            "cell_type": "code",
            "execution_count": 43,
            "id": "603c5c3a",
            "metadata": {},
            "outputs": [
                {
                    "data": {
                        "text/plain": "0"
                    },
                    "execution_count": 43,
                    "metadata": {},
                    "output_type": "execute_result"
                }
            ],
            "source": "#Checking for null values\nenergydata.isnull().sum().sum()"
        },
        {
            "cell_type": "code",
            "execution_count": 73,
            "id": "9b0901b2",
            "metadata": {},
            "outputs": [
                {
                    "data": {
                        "text/plain": "Index(['Appliances', 'T1', 'RH_1', 'T2', 'RH_2', 'T3', 'RH_3', 'T4', 'RH_4',\n       'T5', 'RH_5', 'T6', 'RH_6', 'T7', 'RH_7', 'T8', 'RH_8', 'T9', 'RH_9',\n       'T_out', 'Press_mm_hg', 'RH_out', 'Windspeed', 'Visibility',\n       'Tdewpoint', 'rv1', 'rv2'],\n      dtype='object')"
                    },
                    "execution_count": 73,
                    "metadata": {},
                    "output_type": "execute_result"
                }
            ],
            "source": "energydata.columns"
        },
        {
            "cell_type": "code",
            "execution_count": 44,
            "id": "a45be85a",
            "metadata": {},
            "outputs": [],
            "source": "#Normalizing the data set\nfrom sklearn.preprocessing import MinMaxScaler\nscaler = MinMaxScaler()\nnormalized_df = pd.DataFrame(scaler.fit_transform(energydata), columns=energydata.columns)\nX = normalized_df.drop(columns=['Appliances'])\ny = normalized_df['Appliances']\n\n#Split data into training and testing sets\nfrom sklearn.model_selection import train_test_split\nX_train, X_test, y_train, y_test = train_test_split(X, y, test_size=0.3, random_state=42)\n"
        },
        {
            "cell_type": "code",
            "execution_count": 45,
            "id": "6a674e14",
            "metadata": {},
            "outputs": [],
            "source": "#Evaluating performance\n\ndef performance(model, predicted):\n    mae = mean_absolute_error(y_test, predicted).round(3)\n    rmse = np.sqrt(mean_squared_error(y_test, predicted)).round(3)\n    rsquared = r2_score(y_test, predicted).round(3)\n    rss = np.sum(np.square(y_test - predicted)).round(3)\n    \n    print ('Model Evaluation for', model)\n    print ('Mean Absolute Error:', mae)\n    print ('Root Mean Squared Error:', rmse)\n    print ('R_Squared:', rsquared)\n    print ('Residual Sum of Squares:', rss)\n    \n"
        },
        {
            "cell_type": "markdown",
            "id": "e041b368",
            "metadata": {},
            "source": "# Linear Regression"
        },
        {
            "cell_type": "code",
            "execution_count": 46,
            "id": "c11432d9",
            "metadata": {},
            "outputs": [
                {
                    "name": "stdout",
                    "output_type": "stream",
                    "text": "Model Evaluation for LinearRegression()\nMean Absolute Error: 0.05\nRoot Mean Squared Error: 0.088\nR_Squared: 0.149\nResidual Sum of Squares: 45.348\n"
                }
            ],
            "source": "#creating the model and fitting to the training sets\nfrom sklearn.linear_model import LinearRegression\nlinear_model = LinearRegression()\nlinear_model.fit(X_train, y_train)\n\n#obtaining predictions\npredictedLr = linear_model.predict(X_test)\n\n#Evaluating Performance\nperformance(linear_model, predictedLr)"
        },
        {
            "cell_type": "markdown",
            "id": "08f5c9de",
            "metadata": {},
            "source": "# Ridge Regression"
        },
        {
            "cell_type": "code",
            "execution_count": 47,
            "id": "560b417a",
            "metadata": {},
            "outputs": [
                {
                    "name": "stdout",
                    "output_type": "stream",
                    "text": "Model Evaluation for Ridge(alpha=0.7)\nMean Absolute Error: 0.05\nRoot Mean Squared Error: 0.088\nR_Squared: 0.148\nResidual Sum of Squares: 45.392\n"
                }
            ],
            "source": "#Model fitting\nfrom sklearn.linear_model import Ridge\nridge_reg = Ridge(alpha = 0.7)\nridge_reg.fit(X_train, y_train)\n\n#Predictions\npredictedRidge = ridge_reg.predict(X_test)\n\n#Evaluating opreformancce\nperformance(ridge_reg, predictedRidge)"
        },
        {
            "cell_type": "markdown",
            "id": "2afb8f44",
            "metadata": {},
            "source": "# Lasso Regression"
        },
        {
            "cell_type": "code",
            "execution_count": 48,
            "id": "caf67cac",
            "metadata": {},
            "outputs": [
                {
                    "name": "stdout",
                    "output_type": "stream",
                    "text": "Model Evaluation for Lasso(alpha=0.003)\nMean Absolute Error: 0.057\nRoot Mean Squared Error: 0.095\nR_Squared: -0.0\nResidual Sum of Squares: 53.281\n"
                }
            ],
            "source": "#Model Fitting\nfrom sklearn.linear_model import Lasso\nlasso_reg = Lasso(alpha = 0.003)\nlasso_reg.fit(X_train, y_train)\n\n#predictions\npredictedLasso = lasso_reg.predict(X_test)\n\n#performance\nperformance(lasso_reg, predictedLasso)\n"
        },
        {
            "cell_type": "markdown",
            "id": "9237e7d0",
            "metadata": {},
            "source": "# Elastic Net Regression"
        },
        {
            "cell_type": "code",
            "execution_count": 49,
            "id": "37034ed7",
            "metadata": {},
            "outputs": [
                {
                    "name": "stdout",
                    "output_type": "stream",
                    "text": "Model Evaluation for ElasticNet(alpha=0.5)\nMean Absolute Error: 0.057\nRoot Mean Squared Error: 0.095\nR_Squared: -0.0\nResidual Sum of Squares: 53.281\n"
                }
            ],
            "source": "#model fitting\nfrom sklearn.linear_model import ElasticNet\nENR = ElasticNet(alpha = 0.5)\nENR.fit(X_train, y_train)\n\n#predictions\npredictedENR = ENR.predict(X_test)\n\n#performance\nperformance(ENR, predictedENR)"
        },
        {
            "cell_type": "markdown",
            "id": "fbbe54ca",
            "metadata": {},
            "source": "# Polynomial Regression"
        },
        {
            "cell_type": "code",
            "execution_count": 50,
            "id": "1e525cce",
            "metadata": {},
            "outputs": [
                {
                    "name": "stdout",
                    "output_type": "stream",
                    "text": "Model Evaluation for PolynomialFeatures()\nMean Absolute Error: 0.048\nRoot Mean Squared Error: 0.082\nR_Squared: 0.253\nResidual Sum of Squares: 39.812\n"
                }
            ],
            "source": "#model fitting\nfrom sklearn.preprocessing import PolynomialFeatures\npoly = PolynomialFeatures(degree=2)\nXtrain_pr = poly.fit_transform(X_train)\nXtest_pr = poly.fit_transform(X_test)\nPR = LinearRegression()\nPR.fit(Xtrain_pr, y_train)\n\n#predictions\npredictedPR = PR.predict(Xtest_pr)\n\n#performance\nperformance(poly, predictedPR)\n"
        },
        {
            "cell_type": "code",
            "execution_count": 51,
            "id": "ed220bf9",
            "metadata": {},
            "outputs": [
                {
                    "data": {
                        "text/html": "<div>\n<style scoped>\n    .dataframe tbody tr th:only-of-type {\n        vertical-align: middle;\n    }\n\n    .dataframe tbody tr th {\n        vertical-align: top;\n    }\n\n    .dataframe thead th {\n        text-align: right;\n    }\n</style>\n<table border=\"1\" class=\"dataframe\">\n  <thead>\n    <tr style=\"text-align: right;\">\n      <th></th>\n      <th>Features</th>\n      <th>Linear_Model_Weight</th>\n      <th>Ridge_Weight</th>\n      <th>Lasso_Weight</th>\n      <th>Elastic_Net_Weight</th>\n    </tr>\n  </thead>\n  <tbody>\n    <tr>\n      <th>0</th>\n      <td>RH_2</td>\n      <td>-0.456698</td>\n      <td>-0.382694</td>\n      <td>-0.0</td>\n      <td>-0.0</td>\n    </tr>\n    <tr>\n      <th>1</th>\n      <td>T_out</td>\n      <td>-0.321860</td>\n      <td>-0.230892</td>\n      <td>0.0</td>\n      <td>0.0</td>\n    </tr>\n  </tbody>\n</table>\n</div>",
                        "text/plain": "  Features  Linear_Model_Weight  Ridge_Weight  Lasso_Weight  \\\n0     RH_2            -0.456698     -0.382694          -0.0   \n1    T_out            -0.321860     -0.230892           0.0   \n\n   Elastic_Net_Weight  \n0                -0.0  \n1                 0.0  "
                    },
                    "execution_count": 51,
                    "metadata": {},
                    "output_type": "execute_result"
                }
            ],
            "source": "#Comparing the effects of regularization\ndef get_weights(model, feat, col_name):\n    weights = pd.Series(model.coef_, feat.columns).sort_values()\n    weights_df = pd.DataFrame(weights).reset_index()\n    weights_df.columns = ['Features', col_name]\n    weights_df[col_name].round(3)\n    return weights_df\n\nlinear_model_weights = get_weights(linear_model, X_train, 'Linear_Model_Weight')\nridge_weights = get_weights(ridge_reg, X_train, 'Ridge_Weight')\nlasso_weights = get_weights(lasso_reg, X_train, 'Lasso_Weight')\nENR_weights = get_weights(ENR, X_train, 'Elastic_Net_Weight')\n\n\nfinal_weights = pd.merge(linear_model_weights, ridge_weights, on='Features')\nfinal_weights = pd.merge(final_weights, lasso_weights, on='Features')\nfinal_weights = pd.merge(final_weights, ENR_weights, on='Features')\n\nfinal_weights.head(2)"
        },
        {
            "cell_type": "markdown",
            "id": "8fe4eef6",
            "metadata": {},
            "source": "# question 12"
        },
        {
            "cell_type": "code",
            "execution_count": 65,
            "id": "3e8d557e",
            "metadata": {},
            "outputs": [
                {
                    "name": "stdout",
                    "output_type": "stream",
                    "text": "Model Evaluation for LinearRegression()\nMean Absolute Error: 0.332\nRoot Mean Squared Error: 0.362\nR_Squared: -13.578\nResidual Sum of Squares: 776.734\n"
                }
            ],
            "source": "X12 = normalized_df['T2']\nX12 = pd.DataFrame(normalized_df['T2'])\ny12 = normalized_df['T6']\n#Split data into training and testing sets\nfrom sklearn.model_selection import train_test_split\nX12train, X12test, y12train, y12test = train_test_split(X12, y12, test_size=0.3, random_state=42)\n#creating the model and fitting to the training sets\nfrom sklearn.linear_model import LinearRegression\nlinear_model12 = LinearRegression()\nlinear_model12.fit(X12train, y12train)\n\n#obtaining predictions\npredictedLr12 = linear_model12.predict(X12test)\n\n#Evaluating Performance\nperformance(linear_model12, predictedLr12)"
        },
        {
            "cell_type": "code",
            "execution_count": 63,
            "id": "fcdbc823",
            "metadata": {},
            "outputs": [
                {
                    "data": {
                        "text/html": "<div>\n<style scoped>\n    .dataframe tbody tr th:only-of-type {\n        vertical-align: middle;\n    }\n\n    .dataframe tbody tr th {\n        vertical-align: top;\n    }\n\n    .dataframe thead th {\n        text-align: right;\n    }\n</style>\n<table border=\"1\" class=\"dataframe\">\n  <thead>\n    <tr style=\"text-align: right;\">\n      <th></th>\n      <th>T2</th>\n    </tr>\n  </thead>\n  <tbody>\n    <tr>\n      <th>0</th>\n      <td>0.225345</td>\n    </tr>\n    <tr>\n      <th>1</th>\n      <td>0.225345</td>\n    </tr>\n    <tr>\n      <th>2</th>\n      <td>0.225345</td>\n    </tr>\n    <tr>\n      <th>3</th>\n      <td>0.225345</td>\n    </tr>\n    <tr>\n      <th>4</th>\n      <td>0.225345</td>\n    </tr>\n  </tbody>\n</table>\n</div>",
                        "text/plain": "         T2\n0  0.225345\n1  0.225345\n2  0.225345\n3  0.225345\n4  0.225345"
                    },
                    "execution_count": 63,
                    "metadata": {},
                    "output_type": "execute_result"
                }
            ],
            "source": "X12.head()"
        },
        {
            "cell_type": "code",
            "execution_count": 66,
            "id": "cbe2f60c",
            "metadata": {},
            "outputs": [
                {
                    "data": {
                        "text/plain": "array([0.8910771])"
                    },
                    "execution_count": 66,
                    "metadata": {},
                    "output_type": "execute_result"
                }
            ],
            "source": "linear_model12.coef_"
        },
        {
            "cell_type": "code",
            "execution_count": 72,
            "id": "6b273d26",
            "metadata": {},
            "outputs": [
                {
                    "data": {
                        "text/plain": "0.891077096116988"
                    },
                    "execution_count": 72,
                    "metadata": {},
                    "output_type": "execute_result"
                }
            ],
            "source": "linear_model12.coef_.min()"
        },
        {
            "cell_type": "code",
            "execution_count": 67,
            "id": "81509f77",
            "metadata": {},
            "outputs": [
                {
                    "name": "stdout",
                    "output_type": "stream",
                    "text": "Model Evaluation for LinearRegression()\nMean Absolute Error: 0.332\nRoot Mean Squared Error: 0.375\nR_Squared: -14.647\nResidual Sum of Squares: 833.711\n"
                }
            ],
            "source": "X2 = normalized_df.drop(columns=['T6'])\ny2 = normalized_df['T6']\n#Split data into training and testing sets\nfrom sklearn.model_selection import train_test_split\nX2train, X2test, y2train, y2test = train_test_split(X2, y2, test_size=0.3, random_state=42)\n#creating the model and fitting to the training sets\nfrom sklearn.linear_model import LinearRegression\nlinear_model2 = LinearRegression()\nlinear_model2.fit(X2train, y2train)\n\n#obtaining predictions\npredictedLr2 = linear_model2.predict(X2test)\n\n#Evaluating Performance\nperformance(linear_model2, predictedLr2)"
        },
        {
            "cell_type": "code",
            "execution_count": 80,
            "id": "65f584de",
            "metadata": {},
            "outputs": [
                {
                    "data": {
                        "text/plain": "Index(['Appliances', 'T1', 'RH_1', 'T2', 'RH_2', 'T3', 'RH_3', 'T4', 'RH_4',\n       'T5', 'RH_5', 'T6', 'RH_6', 'T7', 'RH_7', 'T8', 'RH_8', 'T9', 'RH_9',\n       'T_out', 'Press_mm_hg', 'RH_out', 'Windspeed', 'Visibility',\n       'Tdewpoint', 'rv1', 'rv2'],\n      dtype='object')"
                    },
                    "execution_count": 80,
                    "metadata": {},
                    "output_type": "execute_result"
                }
            ],
            "source": "energydata.columns"
        },
        {
            "cell_type": "code",
            "execution_count": 68,
            "id": "c8a51ad3",
            "metadata": {},
            "outputs": [
                {
                    "data": {
                        "text/plain": "array([ 2.75938774e-02, -2.00258757e-01, -3.29034212e-02,  3.22436623e-01,\n        1.02678285e-01,  1.94422236e-02, -7.69313733e-02, -2.38960660e-02,\n        3.51360241e-02, -6.86877291e-02, -3.75064849e-03, -9.57522759e-02,\n       -4.29577818e-02,  9.86453279e-03, -3.89775506e-02, -4.42721335e-02,\n        8.08410082e-02,  1.50027164e-02,  1.00318959e+00, -1.96059272e-02,\n        1.43845987e-01, -1.03392858e-03, -8.91659561e-04, -9.27707695e-02,\n       -2.23706546e-04, -2.23706546e-04])"
                    },
                    "execution_count": 68,
                    "metadata": {},
                    "output_type": "execute_result"
                }
            ],
            "source": "linear_model2.coef_"
        },
        {
            "cell_type": "code",
            "execution_count": 75,
            "id": "5b90d5f7",
            "metadata": {},
            "outputs": [
                {
                    "ename": "AttributeError",
                    "evalue": "'LinearRegression' object has no attribute 'columns'",
                    "output_type": "error",
                    "traceback": [
                        "\u001b[1;31m---------------------------------------------------------------------------\u001b[0m",
                        "\u001b[1;31mAttributeError\u001b[0m                            Traceback (most recent call last)",
                        "\u001b[1;32m<ipython-input-75-11da51f62fa3>\u001b[0m in \u001b[0;36m<module>\u001b[1;34m\u001b[0m\n\u001b[1;32m----> 1\u001b[1;33m \u001b[0mlinear_model2\u001b[0m\u001b[1;33m.\u001b[0m\u001b[0mcolumns\u001b[0m\u001b[1;33m\u001b[0m\u001b[1;33m\u001b[0m\u001b[0m\n\u001b[0m",
                        "\u001b[1;31mAttributeError\u001b[0m: 'LinearRegression' object has no attribute 'columns'"
                    ]
                }
            ],
            "source": ""
        },
        {
            "cell_type": "code",
            "execution_count": 69,
            "id": "41d03856",
            "metadata": {},
            "outputs": [
                {
                    "data": {
                        "text/plain": "-0.20025875727812908"
                    },
                    "execution_count": 69,
                    "metadata": {},
                    "output_type": "execute_result"
                }
            ],
            "source": "linear_model2.coef_.min()"
        },
        {
            "cell_type": "code",
            "execution_count": 74,
            "id": "2b6b8cc5",
            "metadata": {},
            "outputs": [
                {
                    "data": {
                        "text/plain": "1.0031895936721984"
                    },
                    "execution_count": 74,
                    "metadata": {},
                    "output_type": "execute_result"
                }
            ],
            "source": "linear_model2.coef_.max()"
        },
        {
            "cell_type": "code",
            "execution_count": 77,
            "id": "77e244fa",
            "metadata": {},
            "outputs": [
                {
                    "name": "stdout",
                    "output_type": "stream",
                    "text": "Model Evaluation for Ridge(alpha=0.4)\nMean Absolute Error: 0.332\nRoot Mean Squared Error: 0.375\nR_Squared: -14.641\nResidual Sum of Squares: 833.371\n"
                }
            ],
            "source": "ridge_reg2 = Ridge(alpha=0.4)\nridge_reg2.fit(X2train, y2train)\n\n#obtaining predictions\npredictedRR2 = ridge_reg2.predict(X2test)\n\n#Evaluating Performance\nperformance(ridge_reg2, predictedRR2)"
        },
        {
            "cell_type": "code",
            "execution_count": 78,
            "id": "a3953baf",
            "metadata": {},
            "outputs": [
                {
                    "name": "stdout",
                    "output_type": "stream",
                    "text": "Model Evaluation for Lasso(alpha=0.001)\nMean Absolute Error: 0.333\nRoot Mean Squared Error: 0.373\nR_Squared: -14.463\nResidual Sum of Squares: 823.91\n"
                }
            ],
            "source": "lass_reg2 = Lasso(alpha=0.001)\nlass_reg2.fit(X2train, y2train)\n\n#obtaining predictions\npredictedLasR2 = lass_reg2.predict(X2test)\n\n#Evaluating Performance\nperformance(lass_reg2, predictedLasR2)"
        },
        {
            "cell_type": "code",
            "execution_count": 79,
            "id": "6625bea8",
            "metadata": {},
            "outputs": [
                {
                    "data": {
                        "text/plain": "array([ 0.        , -0.        ,  0.        ,  0.04472716, -0.        ,\n       -0.        ,  0.        , -0.        ,  0.        , -0.        ,\n       -0.        , -0.0562673 , -0.        ,  0.        , -0.00099367,\n        0.        , -0.        ,  0.        ,  0.84283618, -0.        ,\n       -0.        ,  0.        , -0.        ,  0.03948853, -0.        ,\n       -0.        ])"
                    },
                    "execution_count": 79,
                    "metadata": {},
                    "output_type": "execute_result"
                }
            ],
            "source": "lass_reg2.coef_"
        },
        {
            "cell_type": "code",
            "execution_count": null,
            "id": "b9bdf9dc",
            "metadata": {},
            "outputs": [],
            "source": ""
        }
    ],
    "metadata": {
        "kernelspec": {
            "display_name": "Python 3",
            "language": "python",
            "name": "python3"
        },
        "language_info": {
            "codemirror_mode": {
                "name": "ipython",
                "version": 3
            },
            "file_extension": ".py",
            "mimetype": "text/x-python",
            "name": "python",
            "nbconvert_exporter": "python",
            "pygments_lexer": "ipython3",
            "version": "3.8.8"
        }
    },
    "nbformat": 4,
    "nbformat_minor": 5
}